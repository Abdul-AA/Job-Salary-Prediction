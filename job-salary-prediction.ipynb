{
 "cells": [
  {
   "cell_type": "code",
   "execution_count": 1,
   "metadata": {},
   "outputs": [],
   "source": [
    "import pandas as pd\n",
    "import seaborn as sns\n",
    "import matplotlib.pyplot as plt\n",
    "%matplotlib inline\n",
    "\n",
    "from sklearn.model_selection import train_test_split, GridSearchCV\n",
    "\n",
    "from sklearn.feature_extraction.text import CountVectorizer, TfidfVectorizer\n",
    "from nltk.stem import WordNetLemmatizer\n",
    "from nltk import word_tokenize, pos_tag\n",
    "from nltk.corpus import wordnet\n",
    "\n",
    "\n",
    "from sklearn.naive_bayes import MultinomialNB\n",
    "from sklearn.linear_model import LogisticRegression\n",
    "from sklearn.metrics import classification_report, confusion_matrix, ConfusionMatrixDisplay\n",
    "import xgboost as xgb\n"
   ]
  },
  {
   "cell_type": "code",
   "execution_count": 2,
   "metadata": {},
   "outputs": [],
   "source": [
    "df=pd.read_csv('Train_rev1.csv')"
   ]
  },
  {
   "cell_type": "code",
   "execution_count": 3,
   "metadata": {},
   "outputs": [
    {
     "data": {
      "text/plain": [
       "(244768, 12)"
      ]
     },
     "execution_count": 3,
     "metadata": {},
     "output_type": "execute_result"
    }
   ],
   "source": [
    "df.shape"
   ]
  },
  {
   "cell_type": "code",
   "execution_count": 4,
   "metadata": {},
   "outputs": [
    {
     "data": {
      "text/plain": [
       "(2500, 12)"
      ]
     },
     "execution_count": 4,
     "metadata": {},
     "output_type": "execute_result"
    }
   ],
   "source": [
    "# sampling 2500 rows to make the data more manageable\n",
    "df = df.sample(2500, random_state=42)\n",
    "df.shape"
   ]
  },
  {
   "cell_type": "code",
   "execution_count": 5,
   "metadata": {},
   "outputs": [
    {
     "data": {
      "text/html": [
       "<div>\n",
       "<style scoped>\n",
       "    .dataframe tbody tr th:only-of-type {\n",
       "        vertical-align: middle;\n",
       "    }\n",
       "\n",
       "    .dataframe tbody tr th {\n",
       "        vertical-align: top;\n",
       "    }\n",
       "\n",
       "    .dataframe thead th {\n",
       "        text-align: right;\n",
       "    }\n",
       "</style>\n",
       "<table border=\"1\" class=\"dataframe\">\n",
       "  <thead>\n",
       "    <tr style=\"text-align: right;\">\n",
       "      <th></th>\n",
       "      <th>Id</th>\n",
       "      <th>Title</th>\n",
       "      <th>FullDescription</th>\n",
       "      <th>LocationRaw</th>\n",
       "      <th>LocationNormalized</th>\n",
       "      <th>ContractType</th>\n",
       "      <th>ContractTime</th>\n",
       "      <th>Company</th>\n",
       "      <th>Category</th>\n",
       "      <th>SalaryRaw</th>\n",
       "      <th>SalaryNormalized</th>\n",
       "      <th>SourceName</th>\n",
       "    </tr>\n",
       "  </thead>\n",
       "  <tbody>\n",
       "    <tr>\n",
       "      <th>30390</th>\n",
       "      <td>68062598</td>\n",
       "      <td>Business Account Manager</td>\n",
       "      <td>Business Account Manager  Plumbing Heating Pro...</td>\n",
       "      <td>South West</td>\n",
       "      <td>South West London</td>\n",
       "      <td>NaN</td>\n",
       "      <td>permanent</td>\n",
       "      <td>BMS Sales Specialists</td>\n",
       "      <td>Sales Jobs</td>\n",
       "      <td>22000 - 25000 per annum + Car,Mobile,Pension,L...</td>\n",
       "      <td>23500</td>\n",
       "      <td>totaljobs.com</td>\n",
       "    </tr>\n",
       "    <tr>\n",
       "      <th>108709</th>\n",
       "      <td>69622111</td>\n",
       "      <td>Staff Nurse RGN/RMN  Newtown Abbey  Nights  Ne...</td>\n",
       "      <td>Job Title; Staff Nurse RGN/RMN – NightsLocatio...</td>\n",
       "      <td>Newtownabbey</td>\n",
       "      <td>Newtownabbey</td>\n",
       "      <td>full_time</td>\n",
       "      <td>NaN</td>\n",
       "      <td>Regional Recruitment Services</td>\n",
       "      <td>Healthcare &amp; Nursing Jobs</td>\n",
       "      <td>12.00/Hour</td>\n",
       "      <td>23040</td>\n",
       "      <td>staffnurse.com</td>\n",
       "    </tr>\n",
       "    <tr>\n",
       "      <th>13924</th>\n",
       "      <td>66664026</td>\n",
       "      <td>Community Fundraising Manager</td>\n",
       "      <td>This dynamic international development charity...</td>\n",
       "      <td>London</td>\n",
       "      <td>London</td>\n",
       "      <td>full_time</td>\n",
       "      <td>permanent</td>\n",
       "      <td>TPP Not for Profit</td>\n",
       "      <td>Charity &amp; Voluntary Jobs</td>\n",
       "      <td>33300 - 36400 per annum</td>\n",
       "      <td>34850</td>\n",
       "      <td>Third Sector Jobs</td>\n",
       "    </tr>\n",
       "    <tr>\n",
       "      <th>154606</th>\n",
       "      <td>71015241</td>\n",
       "      <td>Conveyancing Executive</td>\n",
       "      <td>Large regional law firm require a residential ...</td>\n",
       "      <td>Hampshire</td>\n",
       "      <td>Hampshire</td>\n",
       "      <td>full_time</td>\n",
       "      <td>permanent</td>\n",
       "      <td>PTP Consulting</td>\n",
       "      <td>Legal Jobs</td>\n",
       "      <td>From 18,000 to 27,000 per year</td>\n",
       "      <td>22500</td>\n",
       "      <td>TotallyLegal</td>\n",
       "    </tr>\n",
       "    <tr>\n",
       "      <th>172891</th>\n",
       "      <td>71428553</td>\n",
       "      <td>Investment Compliance Analyst</td>\n",
       "      <td>This individual will work closely with the bus...</td>\n",
       "      <td>London South East</td>\n",
       "      <td>South East London</td>\n",
       "      <td>NaN</td>\n",
       "      <td>permanent</td>\n",
       "      <td>Michael Page Financial Services</td>\n",
       "      <td>Accounting &amp; Finance Jobs</td>\n",
       "      <td>50000 to 60000 per annum</td>\n",
       "      <td>55000</td>\n",
       "      <td>totaljobs.com</td>\n",
       "    </tr>\n",
       "  </tbody>\n",
       "</table>\n",
       "</div>"
      ],
      "text/plain": [
       "              Id                                              Title  \\\n",
       "30390   68062598                           Business Account Manager   \n",
       "108709  69622111  Staff Nurse RGN/RMN  Newtown Abbey  Nights  Ne...   \n",
       "13924   66664026                      Community Fundraising Manager   \n",
       "154606  71015241                             Conveyancing Executive   \n",
       "172891  71428553                      Investment Compliance Analyst   \n",
       "\n",
       "                                          FullDescription        LocationRaw  \\\n",
       "30390   Business Account Manager  Plumbing Heating Pro...         South West   \n",
       "108709  Job Title; Staff Nurse RGN/RMN – NightsLocatio...       Newtownabbey   \n",
       "13924   This dynamic international development charity...             London   \n",
       "154606  Large regional law firm require a residential ...          Hampshire   \n",
       "172891  This individual will work closely with the bus...  London South East   \n",
       "\n",
       "       LocationNormalized ContractType ContractTime  \\\n",
       "30390   South West London          NaN    permanent   \n",
       "108709       Newtownabbey    full_time          NaN   \n",
       "13924              London    full_time    permanent   \n",
       "154606          Hampshire    full_time    permanent   \n",
       "172891  South East London          NaN    permanent   \n",
       "\n",
       "                                Company                   Category  \\\n",
       "30390             BMS Sales Specialists                 Sales Jobs   \n",
       "108709    Regional Recruitment Services  Healthcare & Nursing Jobs   \n",
       "13924                TPP Not for Profit   Charity & Voluntary Jobs   \n",
       "154606                   PTP Consulting                 Legal Jobs   \n",
       "172891  Michael Page Financial Services  Accounting & Finance Jobs   \n",
       "\n",
       "                                                SalaryRaw  SalaryNormalized  \\\n",
       "30390   22000 - 25000 per annum + Car,Mobile,Pension,L...             23500   \n",
       "108709                                         12.00/Hour             23040   \n",
       "13924                             33300 - 36400 per annum             34850   \n",
       "154606                     From 18,000 to 27,000 per year             22500   \n",
       "172891                           50000 to 60000 per annum             55000   \n",
       "\n",
       "               SourceName  \n",
       "30390       totaljobs.com  \n",
       "108709     staffnurse.com  \n",
       "13924   Third Sector Jobs  \n",
       "154606       TotallyLegal  \n",
       "172891      totaljobs.com  "
      ]
     },
     "execution_count": 5,
     "metadata": {},
     "output_type": "execute_result"
    }
   ],
   "source": [
    "df.head()"
   ]
  },
  {
   "cell_type": "code",
   "execution_count": 6,
   "metadata": {},
   "outputs": [
    {
     "data": {
      "text/plain": [
       "Index(['Id', 'Title', 'FullDescription', 'LocationRaw', 'LocationNormalized',\n",
       "       'ContractType', 'ContractTime', 'Company', 'Category', 'SalaryRaw',\n",
       "       'SalaryNormalized', 'SourceName'],\n",
       "      dtype='object')"
      ]
     },
     "execution_count": 6,
     "metadata": {},
     "output_type": "execute_result"
    }
   ],
   "source": [
    "df.columns"
   ]
  },
  {
   "cell_type": "code",
   "execution_count": 7,
   "metadata": {},
   "outputs": [
    {
     "data": {
      "text/plain": [
       "[\"Business Account Manager  Plumbing Heating Products  Basic Salary ******** South West THE COMPANY : We are currently recruiting due to internal promotion for a very wellknown construction group, with a history stretching back to the ****'s and a turnover in excess of 300 million. You will be selling plumbing and heating products into plumbing and heating contractors, dealing with every sector from SMEs to 1man bands and right up to larger contractors. This role is an even split between account management and new business development and you will inherit some excellent accounts. Sales career opportunities within the group are excellent. THE PERSON : You will have the following skills; Field sales track record You will have sold a construction or industrial product They seek someone with excellent organisational and account development skills You will receive full product training THE PACKAGE : Basic Salary ********  30% Bonuses Fully Expensed Company Car Mobile, Pension, Laptop South West and Wales: Avon, Bristol, Bath, Somerset, Dorset, Gloucestershire, Cornwall, Wiltshire, Glamorgan, Carmarthenshire, Cardiff, Swansea BMS is a leading consultancy specialising in sales recruitment. Established in 1990, BMS has achieved a truly nationwide presence through a number of regional centres. The South West operation, established in 1999, was introduced to service the needs of candidates and clients alike throughout the South West and Wales. Offering sales jobs for trainees, sales representatives, sales executives, sales engineers, area sales managers, territory managers and account managers, opportunities are available in every corner of the UK. Initial meetings occur at the convenient location of Bristol just off the M4 and M32 and within easy reach of the M5. We are committed to meeting all potentially suitable candidates face to face. Furthermore, our organisation consists of several highly focused teams, aimed at specific market sectors, enabling us to deliver a service directly tailored to your needs. Please take the time to search our website  www.bmsuk.com/sales. Alternatively contact Tina Vine **** **** **** This job was originally posted as www.totaljobs.com/JobSeeking/BusinessAccountManager_job****\",\n",
       " \"Job Title; Staff Nurse RGN/RMN – NightsLocation; Newton AbbeySalary; **** per hourHours; Part time – 22 hours per weekSkills; NMC Registration, Nursing Home, RGN, RMN, Staff Nurse, Registered General Nurse, Registered Mental Health Nurse, Mental Health, Old AgeJob Reference; ****RGNRegional Recruitment Services are currently recruiting for a Staff Nurse RGN/RMN to work within a medium sized Nursing Home based in the Newton Abbey area. The Role To provide a high standard of nursing care to clients suffering with Old Age, Mental Health and Physical DisabilitiesTo ensure compliance with CQC standards and guidelinesTo write and implement set care plansTo administer prescribed medicationTo conduct accurate risk assessments To ensure that information is recorded correctly To ensure the smooth running of the home during the night shifts To oversee any unqualified members of staff whilst on shift The Candidate Must be a Registered General Nurse or Registered Mental Health NurseMust have a current NMC Pin numberMust be able to work NIGHTS on a part time basisMust have previous experience of working within a Nursing Home setting Must have previous experience of working with clients who suffer with Old Age, Mental Health and Physical Disabilities Must have a passion for caring for others The Package Competitive Salary with generous package Excellent benefits as befits one of the UK's most prestigious organisations. Highly competitive holiday package and a selection of other benefits. Excellent working environment. Promotion opportunities High levels of job security. A great career pathway combined with clinical skills development Secure and supportive working environmentTo be considered for this opportunity please apply directly through this website or send your CV in to us in us directly at; alex.howarthregionalrecruitment.com If you would like to speak to us in more detail before applying, please call Alex Howarth or Danielle Fyfe on **** **** **** quoting reference; ****RGN This position is advertised on behalf of Regional Recruitment Services Ltd. We also have a variety of other permanent positions available ranging from; Care Assistants, Care Home Managers, Care Jobs, Charge Nurse Jobs, Children's Nurses, Clinical Lead Nurses, Clinical Nurses, Clinical Nurse Specialists, Community Children's Nurses, Community Mental Health, Community Sisters, Community Staff Nurses, Community Workers, Deputy Care Managers, Deputy Ward Managers, District Nurses, Team Leaders, Emergency Nurse posts, HDU Nurse positions, Health Care Assistants, Home Manager jobs, ICU Nurse, Lead Nurse, Midwife, Modern Matron, Neonatal Staff Nurse Jobs, Nurse Advisors, Nurse Team Leader posts, Nursing Auxiliary, NVQ Assessor, Occupational Health Nurses, Occupational Therapists, Oncology Nurses, Paediatric Nurses, Practice Nurses, Recovery Nurses, Registered General Nurse posts, Registered Nurse posts, Residential Adult Care jobs, Residential Child Care jobs, RGN's, RMN's, RNLD's, School Nurses, Scrub Nurses, Senior Sisters, Social Care posts, Social Worker positions, Staff Nurse A & E, Support Workers, Theatre Manager posts, Theatre Nurses, Theatre Practitioners, Theatre Support Workers, Ward Managers, Ward Sister posts.\",\n",
       " \"This dynamic international development charity is recruiting for a Community Fundraising Manager to play a key part in the delivery of the charity's fundraising strategy. You will take the lead on developing a community fundraising programme, including expanding an appeal programme and the charity's volunteer network. Key day to day duties within this position will include:  To work closely with the Direct Marketing Manager to deliver a fundraising appeal for schools and churches, including undertaking an evaluation of previous appeals and developing a plan to increase income from this and other community DM activity  To take the lead in developing High Value support from schools, churches and other community groups  To develop and grow friends network including building effective relationships with existing groups and individual community fundraisers, recruiting new supporters and increasing overall support from these important ambassadors.  To develop the charity's speaker network  To contribute to the development of a community fundraising strategy  To undertake a review and analysis of past activity and identify areas of potential growth and identify new business opportunities for community fundraising  To demonstrate excellent relationship management of key community groups and individuals  To coordinate and supervise the thank you, reactivation and recruitment calling process undertaken by a volunteer, including evaluating the impact these calls make  To manage the community fundraising budget effectively, monitoring performance against budget on a monthly basis and contributing to regular reforecasting  Line management of the team's Fundraising Assistant The successful applicant will have the following skills and experience:  Educated to degree level or equivalent  Significant demonstrable experience of working in a community fundraising role  Experience of managing mass communications such as direct mail appeals  Experience of effectively building and managing relationships with a range of groups and individuals  Experience of working to income targets and managing expenditure budgets  Experience of working with schools, faith groups, volunteers and community groups  Experience of managing volunteers  Experience of giving presentations and representing your organisation at a range of events  Proven excellent project management skills  Proven excellent relationship management skills  Excellent written communication skills, including excellent attention to detail  Confident and effective verbal communication skills Closing Date: 28th January 2013 If you are interested in this role or wish to register with TPP to hear about future posts, please send your CV to fundraisingtpp.co.uk. We do try to get in touch with all applications of interest however due to the volume of applications we receive this isn't always possible. Plus free training for fundraisers All fundraisers who secure a role through TPP receive a **** CPD voucher to use with the Institute of Fundraising. More details are available on the TPP Not for Profit website http://www.tpp.co.uk/CPDvoucher.\",\n",
       " 'Large regional law firm require a residential conveyancing Executive to join their very well respected team. You will have experience in all aspects of Conveyancing and be looking to join a firm that can offer you a structured career path. Excellent salary and benefits on offer.',\n",
       " 'This individual will work closely with the business in interpreting client investment guidelines, resolving compliance issues, researching client guideline and security issues, and analyzing both pre and posttrade compliance results. He/she will support Portfolio Managers across a broad range of products and will support the Manager of Investment Compliance in London with the implementation of guideline information for new accounts, revisions, and updates to existing accounts in a timely manner. The ideal candidate will also be involved in various investment compliance initiatives and in assisting with requests for additional compliance analysis or oversight. This individual will need to display sound business judgment in driving results and in implementing creative business solut Have 3 years of relevant investment compliance experience, ideally gained at another blue chip Asset Management firm. This must include experience monitoring investment guidelines. Experience of coding investment restrictions into a vendor or proprietary compliance monitoring system would be advantageous;  Demonstrate a solid working knowledge of equity and fixed income products and derivative securities;  Be confident have an inquisitive mind, and be controls conscious. Strong organizational skills, an ability to manage assignments with competing priorities, excellent communication skills and the ability to work both independently and as a member of a team are critical;  Demonstrate excellent attention to detail and good co A leading Investment Management firm based in the West End up to **** plus package. Your application will be reviewed by Michael Page. Please be aware we receive a high volume of applications for every role advertised regularly receive applications from candidates who exceed the job credentials. We will only contact you within the next 14 days if you are selected for interview. Where specific UK qualifications are required we will take into account overseas equivalents. Michael Page is a world leading recruitment consultancy. This job was originally posted as www.totaljobs.com/JobSeeking/InvestmentComplianceAnalyst_job****']"
      ]
     },
     "execution_count": 7,
     "metadata": {},
     "output_type": "execute_result"
    }
   ],
   "source": [
    "# Reading some of the job descriptions to understand the data\n",
    "job_desc=df.FullDescription.tolist()\n",
    "job_desc[0:5]"
   ]
  },
  {
   "cell_type": "code",
   "execution_count": 8,
   "metadata": {},
   "outputs": [],
   "source": [
    "# Selecting only the columns that we need\n",
    "df2=df[['FullDescription','SalaryNormalized']]"
   ]
  },
  {
   "cell_type": "code",
   "execution_count": 9,
   "metadata": {},
   "outputs": [
    {
     "data": {
      "text/plain": [
       "FullDescription     0\n",
       "SalaryNormalized    0\n",
       "dtype: int64"
      ]
     },
     "execution_count": 9,
     "metadata": {},
     "output_type": "execute_result"
    }
   ],
   "source": [
    "# checking for missing values\n",
    "df2.isna().sum()"
   ]
  },
  {
   "cell_type": "code",
   "execution_count": 10,
   "metadata": {},
   "outputs": [
    {
     "data": {
      "text/plain": [
       "0"
      ]
     },
     "execution_count": 10,
     "metadata": {},
     "output_type": "execute_result"
    }
   ],
   "source": [
    "# checking for duplicates\n",
    "df2.duplicated().sum()"
   ]
  },
  {
   "cell_type": "code",
   "execution_count": 11,
   "metadata": {},
   "outputs": [
    {
     "data": {
      "text/plain": [
       "count      2500.000000\n",
       "mean      33764.077200\n",
       "std       16670.019292\n",
       "min        5088.000000\n",
       "25%       21500.000000\n",
       "50%       30000.000000\n",
       "75%       42500.000000\n",
       "max      100000.000000\n",
       "Name: SalaryNormalized, dtype: float64"
      ]
     },
     "execution_count": 11,
     "metadata": {},
     "output_type": "execute_result"
    }
   ],
   "source": [
    "# checking the descriptive statistics of the salary\n",
    "df2['SalaryNormalized'].describe()\n"
   ]
  },
  {
   "cell_type": "code",
   "execution_count": 12,
   "metadata": {},
   "outputs": [
    {
     "name": "stderr",
     "output_type": "stream",
     "text": [
      "/var/folders/rj/g3r71fsx2vnbbbjb9v368gr00000gp/T/ipykernel_910/1729276314.py:3: SettingWithCopyWarning: \n",
      "A value is trying to be set on a copy of a slice from a DataFrame.\n",
      "Try using .loc[row_indexer,col_indexer] = value instead\n",
      "\n",
      "See the caveats in the documentation: https://pandas.pydata.org/pandas-docs/stable/user_guide/indexing.html#returning-a-view-versus-a-copy\n",
      "  df2['SalaryLevel']=df2['SalaryNormalized'].apply(lambda x: 'High' if x>=df2['SalaryNormalized'].quantile(0.75) else 'Low')\n"
     ]
    },
    {
     "data": {
      "text/plain": [
       "30390      Low\n",
       "108709     Low\n",
       "13924      Low\n",
       "154606     Low\n",
       "172891    High\n",
       "          ... \n",
       "71198      Low\n",
       "214477     Low\n",
       "132982     Low\n",
       "63578      Low\n",
       "41373      Low\n",
       "Name: SalaryLevel, Length: 2500, dtype: object"
      ]
     },
     "execution_count": 12,
     "metadata": {},
     "output_type": "execute_result"
    }
   ],
   "source": [
    "# converting the target variable to a binary varable with high salary as 1 and low salary as 0\n",
    "# using the 75th percentile as the threshold\n",
    "df2['SalaryLevel']=df2['SalaryNormalized'].apply(lambda x: 'High' if x>=df2['SalaryNormalized'].quantile(0.75) else 'Low')\n",
    "# Coverting the newly created column to a categorical variable\n",
    "df2.SalaryLevel.astype('object')"
   ]
  },
  {
   "cell_type": "code",
   "execution_count": 13,
   "metadata": {},
   "outputs": [
    {
     "data": {
      "text/html": [
       "<div>\n",
       "<style scoped>\n",
       "    .dataframe tbody tr th:only-of-type {\n",
       "        vertical-align: middle;\n",
       "    }\n",
       "\n",
       "    .dataframe tbody tr th {\n",
       "        vertical-align: top;\n",
       "    }\n",
       "\n",
       "    .dataframe thead th {\n",
       "        text-align: right;\n",
       "    }\n",
       "</style>\n",
       "<table border=\"1\" class=\"dataframe\">\n",
       "  <thead>\n",
       "    <tr style=\"text-align: right;\">\n",
       "      <th></th>\n",
       "      <th>FullDescription</th>\n",
       "      <th>SalaryNormalized</th>\n",
       "      <th>SalaryLevel</th>\n",
       "    </tr>\n",
       "  </thead>\n",
       "  <tbody>\n",
       "    <tr>\n",
       "      <th>60766</th>\n",
       "      <td>Baptie Co is one of the World’s leading provid...</td>\n",
       "      <td>22500</td>\n",
       "      <td>Low</td>\n",
       "    </tr>\n",
       "    <tr>\n",
       "      <th>218552</th>\n",
       "      <td>Estate Agent Branch Manager Exclusive &amp; Countr...</td>\n",
       "      <td>37500</td>\n",
       "      <td>Low</td>\n",
       "    </tr>\n",
       "    <tr>\n",
       "      <th>177423</th>\n",
       "      <td>We are looking for an experienced Chef De Part...</td>\n",
       "      <td>16000</td>\n",
       "      <td>Low</td>\n",
       "    </tr>\n",
       "    <tr>\n",
       "      <th>88506</th>\n",
       "      <td>A Senior Database Administrator is required fo...</td>\n",
       "      <td>62499</td>\n",
       "      <td>High</td>\n",
       "    </tr>\n",
       "    <tr>\n",
       "      <th>243419</th>\n",
       "      <td>We are looking for a Scrub and Endoscopy Nurse...</td>\n",
       "      <td>26000</td>\n",
       "      <td>Low</td>\n",
       "    </tr>\n",
       "    <tr>\n",
       "      <th>36987</th>\n",
       "      <td>Professional Services, Law firm seeking a new ...</td>\n",
       "      <td>70000</td>\n",
       "      <td>High</td>\n",
       "    </tr>\n",
       "    <tr>\n",
       "      <th>63031</th>\n",
       "      <td>The Company: My client is a reputable regional...</td>\n",
       "      <td>30000</td>\n",
       "      <td>Low</td>\n",
       "    </tr>\n",
       "    <tr>\n",
       "      <th>33764</th>\n",
       "      <td>Maths Teacher Do you want to join an “OUTSTAND...</td>\n",
       "      <td>29172</td>\n",
       "      <td>Low</td>\n",
       "    </tr>\n",
       "    <tr>\n",
       "      <th>121429</th>\n",
       "      <td>A Degree qualified Software Test Engineer is s...</td>\n",
       "      <td>35000</td>\n",
       "      <td>Low</td>\n",
       "    </tr>\n",
       "    <tr>\n",
       "      <th>113210</th>\n",
       "      <td>A new opportunity has arisen for a home based ...</td>\n",
       "      <td>45000</td>\n",
       "      <td>High</td>\n",
       "    </tr>\n",
       "    <tr>\n",
       "      <th>115776</th>\n",
       "      <td>This is an ideal opportunity for an Account Ma...</td>\n",
       "      <td>35000</td>\n",
       "      <td>Low</td>\n",
       "    </tr>\n",
       "    <tr>\n",
       "      <th>122579</th>\n",
       "      <td>Duration: 3 months Salary: ****  **** per hour...</td>\n",
       "      <td>22080</td>\n",
       "      <td>Low</td>\n",
       "    </tr>\n",
       "    <tr>\n",
       "      <th>97920</th>\n",
       "      <td>Project Manager, PM, South Yorkshire, Rotherha...</td>\n",
       "      <td>42500</td>\n",
       "      <td>High</td>\n",
       "    </tr>\n",
       "    <tr>\n",
       "      <th>92370</th>\n",
       "      <td>JOB TITLE: Technical Service / Support Enginee...</td>\n",
       "      <td>26000</td>\n",
       "      <td>Low</td>\n",
       "    </tr>\n",
       "    <tr>\n",
       "      <th>31564</th>\n",
       "      <td>Our client is a leading 'on demand' software c...</td>\n",
       "      <td>47500</td>\n",
       "      <td>High</td>\n",
       "    </tr>\n",
       "    <tr>\n",
       "      <th>82499</th>\n",
       "      <td>Multiple Software Developer roles – C,VB.Net/V...</td>\n",
       "      <td>35000</td>\n",
       "      <td>Low</td>\n",
       "    </tr>\n",
       "    <tr>\n",
       "      <th>9220</th>\n",
       "      <td>Are you looking for an Office Coordinator/Admi...</td>\n",
       "      <td>25000</td>\n",
       "      <td>Low</td>\n",
       "    </tr>\n",
       "    <tr>\n",
       "      <th>219093</th>\n",
       "      <td>DGV Assessors  London ****K pro rata (6 month ...</td>\n",
       "      <td>23000</td>\n",
       "      <td>Low</td>\n",
       "    </tr>\n",
       "    <tr>\n",
       "      <th>231628</th>\n",
       "      <td>GROWING TRENDY RESTAURANT CHAIN REQUIRES A AMB...</td>\n",
       "      <td>21500</td>\n",
       "      <td>Low</td>\n",
       "    </tr>\n",
       "    <tr>\n",
       "      <th>132809</th>\n",
       "      <td>Currently recruiting for an experienced Senior...</td>\n",
       "      <td>53760</td>\n",
       "      <td>High</td>\n",
       "    </tr>\n",
       "  </tbody>\n",
       "</table>\n",
       "</div>"
      ],
      "text/plain": [
       "                                          FullDescription  SalaryNormalized  \\\n",
       "60766   Baptie Co is one of the World’s leading provid...             22500   \n",
       "218552  Estate Agent Branch Manager Exclusive & Countr...             37500   \n",
       "177423  We are looking for an experienced Chef De Part...             16000   \n",
       "88506   A Senior Database Administrator is required fo...             62499   \n",
       "243419  We are looking for a Scrub and Endoscopy Nurse...             26000   \n",
       "36987   Professional Services, Law firm seeking a new ...             70000   \n",
       "63031   The Company: My client is a reputable regional...             30000   \n",
       "33764   Maths Teacher Do you want to join an “OUTSTAND...             29172   \n",
       "121429  A Degree qualified Software Test Engineer is s...             35000   \n",
       "113210  A new opportunity has arisen for a home based ...             45000   \n",
       "115776  This is an ideal opportunity for an Account Ma...             35000   \n",
       "122579  Duration: 3 months Salary: ****  **** per hour...             22080   \n",
       "97920   Project Manager, PM, South Yorkshire, Rotherha...             42500   \n",
       "92370   JOB TITLE: Technical Service / Support Enginee...             26000   \n",
       "31564   Our client is a leading 'on demand' software c...             47500   \n",
       "82499   Multiple Software Developer roles – C,VB.Net/V...             35000   \n",
       "9220    Are you looking for an Office Coordinator/Admi...             25000   \n",
       "219093  DGV Assessors  London ****K pro rata (6 month ...             23000   \n",
       "231628  GROWING TRENDY RESTAURANT CHAIN REQUIRES A AMB...             21500   \n",
       "132809  Currently recruiting for an experienced Senior...             53760   \n",
       "\n",
       "       SalaryLevel  \n",
       "60766          Low  \n",
       "218552         Low  \n",
       "177423         Low  \n",
       "88506         High  \n",
       "243419         Low  \n",
       "36987         High  \n",
       "63031          Low  \n",
       "33764          Low  \n",
       "121429         Low  \n",
       "113210        High  \n",
       "115776         Low  \n",
       "122579         Low  \n",
       "97920         High  \n",
       "92370          Low  \n",
       "31564         High  \n",
       "82499          Low  \n",
       "9220           Low  \n",
       "219093         Low  \n",
       "231628         Low  \n",
       "132809        High  "
      ]
     },
     "execution_count": 13,
     "metadata": {},
     "output_type": "execute_result"
    }
   ],
   "source": [
    "# Verifying the the new column\n",
    "df2.sample(20)"
   ]
  },
  {
   "cell_type": "code",
   "execution_count": 14,
   "metadata": {},
   "outputs": [
    {
     "name": "stderr",
     "output_type": "stream",
     "text": [
      "/Users/Abdul/opt/anaconda3/lib/python3.9/site-packages/seaborn/_oldcore.py:1498: FutureWarning: is_categorical_dtype is deprecated and will be removed in a future version. Use isinstance(dtype, CategoricalDtype) instead\n",
      "  if pd.api.types.is_categorical_dtype(vector):\n",
      "/Users/Abdul/opt/anaconda3/lib/python3.9/site-packages/seaborn/_oldcore.py:1119: FutureWarning: use_inf_as_na option is deprecated and will be removed in a future version. Convert inf values to NaN before operating instead.\n",
      "  with pd.option_context('mode.use_inf_as_na', True):\n",
      "/Users/Abdul/opt/anaconda3/lib/python3.9/site-packages/seaborn/_oldcore.py:1498: FutureWarning: is_categorical_dtype is deprecated and will be removed in a future version. Use isinstance(dtype, CategoricalDtype) instead\n",
      "  if pd.api.types.is_categorical_dtype(vector):\n",
      "/Users/Abdul/opt/anaconda3/lib/python3.9/site-packages/seaborn/_oldcore.py:1498: FutureWarning: is_categorical_dtype is deprecated and will be removed in a future version. Use isinstance(dtype, CategoricalDtype) instead\n",
      "  if pd.api.types.is_categorical_dtype(vector):\n",
      "/Users/Abdul/opt/anaconda3/lib/python3.9/site-packages/seaborn/_oldcore.py:1498: FutureWarning: is_categorical_dtype is deprecated and will be removed in a future version. Use isinstance(dtype, CategoricalDtype) instead\n",
      "  if pd.api.types.is_categorical_dtype(vector):\n"
     ]
    },
    {
     "name": "stdout",
     "output_type": "stream",
     "text": [
      "The Proportion of High Salary Jobs is:\n",
      " SalaryLevel\n",
      "Low     0.7424\n",
      "High    0.2576\n",
      "Name: proportion, dtype: float64\n"
     ]
    },
    {
     "data": {
      "image/png": "[encoded data removed]",
      "text/plain": [
       "<Figure size 1000x600 with 1 Axes>"
      ]
     },
     "metadata": {},
     "output_type": "display_data"
    },
    {
     "data": {
      "image/png": "[encoded data removed]",
      "text/plain": [
       "<Figure size 1000x600 with 1 Axes>"
      ]
     },
     "metadata": {},
     "output_type": "display_data"
    }
   ],
   "source": [
    "# viewing the distribution of the salaries\n",
    "plt.subplots(figsize=(10,6))\n",
    "sns.histplot(df2['SalaryNormalized']);\n",
    "\n",
    "# viewing the distribution of the binary target variable\n",
    "plt.subplots(figsize=(10,6))\n",
    "sns.countplot(x='SalaryLevel', data=df2); \n",
    "print('The Proportion of High Salary Jobs is:\\n' ,df2['SalaryLevel'].value_counts(normalize=True))\n"
   ]
  },
  {
   "cell_type": "code",
   "execution_count": 15,
   "metadata": {},
   "outputs": [
    {
     "data": {
      "text/html": [
       "<div>\n",
       "<style scoped>\n",
       "    .dataframe tbody tr th:only-of-type {\n",
       "        vertical-align: middle;\n",
       "    }\n",
       "\n",
       "    .dataframe tbody tr th {\n",
       "        vertical-align: top;\n",
       "    }\n",
       "\n",
       "    .dataframe thead th {\n",
       "        text-align: right;\n",
       "    }\n",
       "</style>\n",
       "<table border=\"1\" class=\"dataframe\">\n",
       "  <thead>\n",
       "    <tr style=\"text-align: right;\">\n",
       "      <th></th>\n",
       "      <th>FullDescription</th>\n",
       "      <th>SalaryNormalized</th>\n",
       "      <th>SalaryLevel_High</th>\n",
       "    </tr>\n",
       "  </thead>\n",
       "  <tbody>\n",
       "    <tr>\n",
       "      <th>30390</th>\n",
       "      <td>Business Account Manager  Plumbing Heating Pro...</td>\n",
       "      <td>23500</td>\n",
       "      <td>0</td>\n",
       "    </tr>\n",
       "    <tr>\n",
       "      <th>108709</th>\n",
       "      <td>Job Title; Staff Nurse RGN/RMN – NightsLocatio...</td>\n",
       "      <td>23040</td>\n",
       "      <td>0</td>\n",
       "    </tr>\n",
       "    <tr>\n",
       "      <th>13924</th>\n",
       "      <td>This dynamic international development charity...</td>\n",
       "      <td>34850</td>\n",
       "      <td>0</td>\n",
       "    </tr>\n",
       "    <tr>\n",
       "      <th>154606</th>\n",
       "      <td>Large regional law firm require a residential ...</td>\n",
       "      <td>22500</td>\n",
       "      <td>0</td>\n",
       "    </tr>\n",
       "    <tr>\n",
       "      <th>172891</th>\n",
       "      <td>This individual will work closely with the bus...</td>\n",
       "      <td>55000</td>\n",
       "      <td>1</td>\n",
       "    </tr>\n",
       "  </tbody>\n",
       "</table>\n",
       "</div>"
      ],
      "text/plain": [
       "                                          FullDescription  SalaryNormalized  \\\n",
       "30390   Business Account Manager  Plumbing Heating Pro...             23500   \n",
       "108709  Job Title; Staff Nurse RGN/RMN – NightsLocatio...             23040   \n",
       "13924   This dynamic international development charity...             34850   \n",
       "154606  Large regional law firm require a residential ...             22500   \n",
       "172891  This individual will work closely with the bus...             55000   \n",
       "\n",
       "        SalaryLevel_High  \n",
       "30390                  0  \n",
       "108709                 0  \n",
       "13924                  0  \n",
       "154606                 0  \n",
       "172891                 1  "
      ]
     },
     "execution_count": 15,
     "metadata": {},
     "output_type": "execute_result"
    }
   ],
   "source": [
    "# encoding the categorical variable without dropping the first column because I want to retain high salary as the reference category\n",
    "cat_cols = ['SalaryLevel']\n",
    "df2 = pd.get_dummies(df2, columns=cat_cols, drop_first=False, dtype='int64')\n",
    "\n",
    "# Now dropping the 'SalaryLevel_Low' column manually\n",
    "df2.drop('SalaryLevel_Low', axis=1, inplace=True)\n",
    "\n",
    "df2.head()"
   ]
  },
  {
   "cell_type": "code",
   "execution_count": 16,
   "metadata": {},
   "outputs": [],
   "source": [
    "# dropping the numerical salary column\n",
    "df2.drop('SalaryNormalized', axis=1, inplace=True)"
   ]
  },
  {
   "cell_type": "markdown",
   "metadata": {},
   "source": [
    "### Model Building\n",
    "- Both Count Vectorizer and TF-IDF were tested to identify which technique provides better performance.\n",
    "- Count Vectorizer emerged as the superior method, yielding the highest accuracy.\n",
    "- Despite experimenting with a variation of Count Vectorizer, including altering n-grams, and adjusting the maximum and minimum document frequency, these modifications did not enhance the results.\n",
    "- Additionally, experimentation with lemmatization was done.\n",
    "- However, altering the hyperparameters in the vectorizer did not lead to any improvement in outcomes, neither did lemmatization\n"
   ]
  },
  {
   "cell_type": "code",
   "execution_count": 45,
   "metadata": {},
   "outputs": [],
   "source": [
    "# instantiating the count vectorizer\n",
    "cv=CountVectorizer(stop_words='english')\n",
    "# fitting and transforming the full description column and assigning it to X\n",
    "X=cv.fit_transform(df2['FullDescription'])\n",
    "# assigning the target variable to y\n",
    "y=df2['SalaryLevel_High']"
   ]
  },
  {
   "cell_type": "code",
   "execution_count": 46,
   "metadata": {},
   "outputs": [
    {
     "data": {
      "text/plain": [
       "(2500, 17693)"
      ]
     },
     "execution_count": 46,
     "metadata": {},
     "output_type": "execute_result"
    }
   ],
   "source": [
    "# checking the dimensions of the X matrix\n",
    "X.shape"
   ]
  },
  {
   "cell_type": "code",
   "execution_count": 47,
   "metadata": {},
   "outputs": [],
   "source": [
    "# splitting the data into training and testing sets\n",
    "X_train, X_test, y_train, y_test = train_test_split(X, y, test_size=0.2, random_state=42)"
   ]
  },
  {
   "cell_type": "code",
   "execution_count": 48,
   "metadata": {},
   "outputs": [],
   "source": [
    "# instantiating the multinomial naive bayes model\n",
    "NB1=MultinomialNB()\n",
    "# fitting the model to the training data\n",
    "NB1.fit(X_train, y_train)\n",
    "# making predictions\n",
    "y_pred1=NB1.predict(X_test)"
   ]
  },
  {
   "cell_type": "code",
   "execution_count": 49,
   "metadata": {},
   "outputs": [
    {
     "name": "stdout",
     "output_type": "stream",
     "text": [
      "              precision    recall  f1-score   support\n",
      "\n",
      "  Low Salary       0.87      0.83      0.85       368\n",
      " High Salary       0.58      0.66      0.61       132\n",
      "\n",
      "    accuracy                           0.78       500\n",
      "   macro avg       0.72      0.74      0.73       500\n",
      "weighted avg       0.79      0.78      0.79       500\n",
      "\n"
     ]
    }
   ],
   "source": [
    "# evaluating the model\n",
    "print(classification_report(y_test, y_pred1, target_names=['Low Salary', 'High Salary']))"
   ]
  },
  {
   "cell_type": "code",
   "execution_count": 50,
   "metadata": {},
   "outputs": [
    {
     "data": {
      "image/png": "[encoded data removed]",
      "text/plain": [
       "<Figure size 640x480 with 2 Axes>"
      ]
     },
     "metadata": {},
     "output_type": "display_data"
    }
   ],
   "source": [
    "cm1=confusion_matrix(y_test, y_pred1)\n",
    "ConfusionMatrixDisplay(confusion_matrix=cm1, display_labels=['Low Salary', 'High Salary']).plot();\n",
    "                            "
   ]
  },
  {
   "cell_type": "code",
   "execution_count": 51,
   "metadata": {},
   "outputs": [],
   "source": [
    "# using tfidf vectorizer\n",
    "# instantiating the tfidf vectorizer\n",
    "tfidf=TfidfVectorizer(stop_words='english', max_features=1000)\n",
    "# fitting and transforming the full description column and assigning it to X\n",
    "X=tfidf.fit_transform(df2['FullDescription'])\n",
    "# splitting the data into training and testing sets\n",
    "X_train, X_test, y_train, y_test = train_test_split(X, y, test_size=0.2, random_state=42)\n"
   ]
  },
  {
   "cell_type": "code",
   "execution_count": 52,
   "metadata": {},
   "outputs": [],
   "source": [
    "# instantiating the multinomial naive bayes model\n",
    "NB2=MultinomialNB()\n",
    "# fitting the model to the training data\n",
    "NB2.fit(X_train, y_train)\n",
    "# making predictions\n",
    "y_pred2=NB2.predict(X_test)\n"
   ]
  },
  {
   "cell_type": "code",
   "execution_count": 53,
   "metadata": {},
   "outputs": [
    {
     "name": "stdout",
     "output_type": "stream",
     "text": [
      "              precision    recall  f1-score   support\n",
      "\n",
      "  Low Salary       0.80      0.93      0.86       368\n",
      " High Salary       0.65      0.35      0.45       132\n",
      "\n",
      "    accuracy                           0.78       500\n",
      "   macro avg       0.72      0.64      0.66       500\n",
      "weighted avg       0.76      0.78      0.75       500\n",
      "\n"
     ]
    }
   ],
   "source": [
    "print(classification_report(y_test, y_pred2, target_names=['Low Salary', 'High Salary']))"
   ]
  },
  {
   "cell_type": "code",
   "execution_count": 54,
   "metadata": {},
   "outputs": [
    {
     "data": {
      "image/png": "[encoded data removed]",
      "text/plain": [
       "<Figure size 640x480 with 2 Axes>"
      ]
     },
     "metadata": {},
     "output_type": "display_data"
    }
   ],
   "source": [
    "cm2=confusion_matrix(y_test, y_pred2)\n",
    "ConfusionMatrixDisplay(confusion_matrix=cm2, display_labels=['Low Salary', 'High Salary']).plot();"
   ]
  },
  {
   "cell_type": "code",
   "execution_count": 55,
   "metadata": {},
   "outputs": [],
   "source": [
    "# Using count vectorizer experimenting with different max document frequency, minimum doc freq and ngram range\n",
    "# instantiating the count vectorizer\n",
    "cv=CountVectorizer(stop_words='english', max_df=0.8, min_df=2, ngram_range=(1,3))\n",
    "# fitting and transforming the full description column and assigning it to X\n",
    "X=cv.fit_transform(df2['FullDescription'])\n",
    "# splitting the data into training and testing sets\n",
    "X_train, X_test, y_train, y_test = train_test_split(X, y, test_size=0.2, random_state=42)"
   ]
  },
  {
   "cell_type": "code",
   "execution_count": 56,
   "metadata": {},
   "outputs": [],
   "source": [
    "# instantiating the multinomial naive bayes model\n",
    "NB3=MultinomialNB()\n",
    "# fitting the model to the training data\n",
    "NB3.fit(X_train, y_train)\n",
    "# making predictions\n",
    "y_pred3=NB3.predict(X_test)"
   ]
  },
  {
   "cell_type": "code",
   "execution_count": 57,
   "metadata": {},
   "outputs": [
    {
     "name": "stdout",
     "output_type": "stream",
     "text": [
      "              precision    recall  f1-score   support\n",
      "\n",
      "  Low Salary       0.89      0.77      0.83       368\n",
      " High Salary       0.54      0.73      0.62       132\n",
      "\n",
      "    accuracy                           0.76       500\n",
      "   macro avg       0.71      0.75      0.72       500\n",
      "weighted avg       0.80      0.76      0.77       500\n",
      "\n"
     ]
    }
   ],
   "source": [
    "print(classification_report(y_test, y_pred3, target_names=['Low Salary', 'High Salary']))"
   ]
  },
  {
   "cell_type": "code",
   "execution_count": 58,
   "metadata": {},
   "outputs": [
    {
     "data": {
      "image/png": "[encoded data removed]",
      "text/plain": [
       "<Figure size 640x480 with 2 Axes>"
      ]
     },
     "metadata": {},
     "output_type": "display_data"
    }
   ],
   "source": [
    "cm3=confusion_matrix(y_test, y_pred3)\n",
    "ConfusionMatrixDisplay(confusion_matrix=cm3, display_labels=['Low Salary', 'High Salary']).plot();"
   ]
  },
  {
   "cell_type": "code",
   "execution_count": 59,
   "metadata": {},
   "outputs": [],
   "source": [
    "# defining a function to lemmatize the text\n",
    "def get_wordnet_pos(tag):\n",
    "    if tag.startswith('J'):\n",
    "        return wordnet.ADJ\n",
    "    elif tag.startswith('V'):\n",
    "        return wordnet.VERB\n",
    "    elif tag.startswith('N'):\n",
    "        return wordnet.NOUN\n",
    "    elif tag.startswith('R'):\n",
    "        return wordnet.ADV\n",
    "    else:         \n",
    "        return wordnet.NOUN\n",
    "       \n",
    "def lemmatize_passage(text):\n",
    "    words = word_tokenize(text)\n",
    "    pos_tags = pos_tag(words)\n",
    "    lemmatizer = WordNetLemmatizer()\n",
    "    lemmatized_words = [lemmatizer.lemmatize(word, get_wordnet_pos(tag)) for word, tag in pos_tags]\n",
    "    lemmatized_sentence = ' '.join(lemmatized_words)\n",
    "    return lemmatized_sentence"
   ]
  },
  {
   "cell_type": "code",
   "execution_count": 60,
   "metadata": {},
   "outputs": [],
   "source": [
    "# lemmatizing the full description column\n",
    "lemma_desc=df2['FullDescription'].apply(lemmatize_passage)\n"
   ]
  },
  {
   "cell_type": "code",
   "execution_count": 61,
   "metadata": {},
   "outputs": [],
   "source": [
    "# instantiating the count vectorizer\n",
    "cv=CountVectorizer(stop_words='english')\n",
    "# fitting and transforming the full description column and assigning it to X\n",
    "X=cv.fit_transform(lemma_desc)\n",
    "# splitting the data into training and testing sets\n",
    "X_train, X_test, y_train, y_test = train_test_split(X, y, test_size=0.2, random_state=42)"
   ]
  },
  {
   "cell_type": "code",
   "execution_count": 62,
   "metadata": {},
   "outputs": [],
   "source": [
    "# instantiating the multinomial naive bayes model\n",
    "NB4=MultinomialNB()\n",
    "# fitting the model to the training data\n",
    "NB4.fit(X_train, y_train)\n",
    "# making predictions\n",
    "y_pred4=NB4.predict(X_test)"
   ]
  },
  {
   "cell_type": "code",
   "execution_count": 63,
   "metadata": {},
   "outputs": [
    {
     "name": "stdout",
     "output_type": "stream",
     "text": [
      "              precision    recall  f1-score   support\n",
      "\n",
      "  Low Salary       0.86      0.82      0.84       368\n",
      " High Salary       0.56      0.64      0.60       132\n",
      "\n",
      "    accuracy                           0.77       500\n",
      "   macro avg       0.71      0.73      0.72       500\n",
      "weighted avg       0.78      0.77      0.78       500\n",
      "\n"
     ]
    }
   ],
   "source": [
    "print(classification_report(y_test, y_pred4, target_names=['Low Salary', 'High Salary']))   \n"
   ]
  },
  {
   "cell_type": "code",
   "execution_count": 64,
   "metadata": {},
   "outputs": [
    {
     "data": {
      "text/plain": [
       "array([[302,  66],\n",
       "       [ 48,  84]])"
      ]
     },
     "execution_count": 64,
     "metadata": {},
     "output_type": "execute_result"
    }
   ],
   "source": [
    "confusion_matrix(y_test, y_pred4)"
   ]
  },
  {
   "cell_type": "code",
   "execution_count": 65,
   "metadata": {},
   "outputs": [
    {
     "data": {
      "image/png": "[encoded data removed]",
      "text/plain": [
       "<Figure size 640x480 with 2 Axes>"
      ]
     },
     "metadata": {},
     "output_type": "display_data"
    }
   ],
   "source": [
    "cm4=confusion_matrix(y_test, y_pred4)\n",
    "ConfusionMatrixDisplay(confusion_matrix=cm4, display_labels=['Low Salary', 'High Salary']).plot();"
   ]
  },
  {
   "cell_type": "markdown",
   "metadata": {},
   "source": [
    "### Exploring the Top 10 Words that are Most Indicative of HIGH Salary and Those Indicative of Low Salary\n",
    "- A logistic regression model was trained on text transformed by Count Vectorizer.\n",
    "- The coefficients from the logistic regression were used to identify the most influential words. Words with the highest coefficients, indicating a positive correlation with the log odds, suggest a high salary. These top words for high salary include: director, senior, leadership, dentist, consumer, player, reputation, lead, successfully, and image.\n",
    "- Conversely, words with the lowest coefficients, typically negative, were deemed most indicative of a low salary. These words include: applicants, standard, basic, database, hours, depending, timely, selling, building, and stock.\n",
    "\n",
    "\n",
    "\n"
   ]
  },
  {
   "cell_type": "code",
   "execution_count": 66,
   "metadata": {},
   "outputs": [],
   "source": [
    "# instatiating the count vectorizer\n",
    "cv=CountVectorizer(stop_words='english')\n",
    "# fitting and transforming the full description column and assigning it to X\n",
    "X=cv.fit_transform(df2['FullDescription'])\n",
    "# splitting the data into training and testing sets\n",
    "X_train, X_test, y_train, y_test = train_test_split(X, y, test_size=0.2, random_state=42)"
   ]
  },
  {
   "cell_type": "code",
   "execution_count": 67,
   "metadata": {},
   "outputs": [
    {
     "name": "stdout",
     "output_type": "stream",
     "text": [
      "              precision    recall  f1-score   support\n",
      "\n",
      "  Low Salary       0.85      0.88      0.86       368\n",
      " High Salary       0.63      0.55      0.59       132\n",
      "\n",
      "    accuracy                           0.80       500\n",
      "   macro avg       0.74      0.72      0.73       500\n",
      "weighted avg       0.79      0.80      0.79       500\n",
      "\n"
     ]
    }
   ],
   "source": [
    "# instantiating the logistic regression model\n",
    "logreg=LogisticRegression(max_iter=10000, random_state=42)\n",
    "# fitting the model to the training data\n",
    "logreg.fit(X_train, y_train)\n",
    "# making predictions\n",
    "y_pred5=logreg.predict(X_test)\n",
    "\n",
    "print(classification_report(y_test, y_pred5, target_names=['Low Salary', 'High Salary']))"
   ]
  },
  {
   "cell_type": "code",
   "execution_count": 68,
   "metadata": {},
   "outputs": [
    {
     "data": {
      "text/plain": [
       "array([[-8.84968233e-02,  5.66633100e-03, -1.18142826e-02, ...,\n",
       "        -7.67680432e-05, -3.99000380e-03,  1.99684785e-01]])"
      ]
     },
     "execution_count": 68,
     "metadata": {},
     "output_type": "execute_result"
    }
   ],
   "source": [
    "logreg.coef_"
   ]
  },
  {
   "cell_type": "code",
   "execution_count": 69,
   "metadata": {},
   "outputs": [
    {
     "data": {
      "text/html": [
       "<div>\n",
       "<style scoped>\n",
       "    .dataframe tbody tr th:only-of-type {\n",
       "        vertical-align: middle;\n",
       "    }\n",
       "\n",
       "    .dataframe tbody tr th {\n",
       "        vertical-align: top;\n",
       "    }\n",
       "\n",
       "    .dataframe thead th {\n",
       "        text-align: right;\n",
       "    }\n",
       "</style>\n",
       "<table border=\"1\" class=\"dataframe\">\n",
       "  <thead>\n",
       "    <tr style=\"text-align: right;\">\n",
       "      <th></th>\n",
       "      <th>Word</th>\n",
       "      <th>Coefficient</th>\n",
       "    </tr>\n",
       "  </thead>\n",
       "  <tbody>\n",
       "    <tr>\n",
       "      <th>0</th>\n",
       "      <td>00</td>\n",
       "      <td>-0.088497</td>\n",
       "    </tr>\n",
       "    <tr>\n",
       "      <th>1</th>\n",
       "      <td>000</td>\n",
       "      <td>0.005666</td>\n",
       "    </tr>\n",
       "    <tr>\n",
       "      <th>2</th>\n",
       "      <td>001</td>\n",
       "      <td>-0.011814</td>\n",
       "    </tr>\n",
       "    <tr>\n",
       "      <th>3</th>\n",
       "      <td>008</td>\n",
       "      <td>0.018958</td>\n",
       "    </tr>\n",
       "    <tr>\n",
       "      <th>4</th>\n",
       "      <td>00am</td>\n",
       "      <td>-0.124951</td>\n",
       "    </tr>\n",
       "    <tr>\n",
       "      <th>...</th>\n",
       "      <td>...</td>\n",
       "      <td>...</td>\n",
       "    </tr>\n",
       "    <tr>\n",
       "      <th>17688</th>\n",
       "      <td>zoo</td>\n",
       "      <td>-0.002369</td>\n",
       "    </tr>\n",
       "    <tr>\n",
       "      <th>17689</th>\n",
       "      <td>zoos</td>\n",
       "      <td>-0.036458</td>\n",
       "    </tr>\n",
       "    <tr>\n",
       "      <th>17690</th>\n",
       "      <td>zorin</td>\n",
       "      <td>-0.000077</td>\n",
       "    </tr>\n",
       "    <tr>\n",
       "      <th>17691</th>\n",
       "      <td>zq</td>\n",
       "      <td>-0.003990</td>\n",
       "    </tr>\n",
       "    <tr>\n",
       "      <th>17692</th>\n",
       "      <td>zrecruitment</td>\n",
       "      <td>0.199685</td>\n",
       "    </tr>\n",
       "  </tbody>\n",
       "</table>\n",
       "<p>17693 rows × 2 columns</p>\n",
       "</div>"
      ],
      "text/plain": [
       "               Word  Coefficient\n",
       "0                00    -0.088497\n",
       "1               000     0.005666\n",
       "2               001    -0.011814\n",
       "3               008     0.018958\n",
       "4              00am    -0.124951\n",
       "...             ...          ...\n",
       "17688           zoo    -0.002369\n",
       "17689          zoos    -0.036458\n",
       "17690         zorin    -0.000077\n",
       "17691            zq    -0.003990\n",
       "17692  zrecruitment     0.199685\n",
       "\n",
       "[17693 rows x 2 columns]"
      ]
     },
     "execution_count": 69,
     "metadata": {},
     "output_type": "execute_result"
    }
   ],
   "source": [
    "# Assessing the coefficients to see the words that are most associated with high salary\n",
    "coefficients=pd.DataFrame({'Word':cv.get_feature_names_out(), 'Coefficient':logreg.coef_[0]})\n",
    "coefficients\n"
   ]
  },
  {
   "cell_type": "code",
   "execution_count": 70,
   "metadata": {},
   "outputs": [
    {
     "data": {
      "text/html": [
       "<div>\n",
       "<style scoped>\n",
       "    .dataframe tbody tr th:only-of-type {\n",
       "        vertical-align: middle;\n",
       "    }\n",
       "\n",
       "    .dataframe tbody tr th {\n",
       "        vertical-align: top;\n",
       "    }\n",
       "\n",
       "    .dataframe thead th {\n",
       "        text-align: right;\n",
       "    }\n",
       "</style>\n",
       "<table border=\"1\" class=\"dataframe\">\n",
       "  <thead>\n",
       "    <tr style=\"text-align: right;\">\n",
       "      <th></th>\n",
       "      <th>Word</th>\n",
       "      <th>Coefficient</th>\n",
       "    </tr>\n",
       "  </thead>\n",
       "  <tbody>\n",
       "    <tr>\n",
       "      <th>4779</th>\n",
       "      <td>director</td>\n",
       "      <td>0.988911</td>\n",
       "    </tr>\n",
       "    <tr>\n",
       "      <th>14323</th>\n",
       "      <td>senior</td>\n",
       "      <td>0.955226</td>\n",
       "    </tr>\n",
       "    <tr>\n",
       "      <th>9078</th>\n",
       "      <td>leadership</td>\n",
       "      <td>0.746034</td>\n",
       "    </tr>\n",
       "    <tr>\n",
       "      <th>4503</th>\n",
       "      <td>dentist</td>\n",
       "      <td>0.705865</td>\n",
       "    </tr>\n",
       "    <tr>\n",
       "      <th>3706</th>\n",
       "      <td>consumer</td>\n",
       "      <td>0.646954</td>\n",
       "    </tr>\n",
       "    <tr>\n",
       "      <th>11991</th>\n",
       "      <td>player</td>\n",
       "      <td>0.586595</td>\n",
       "    </tr>\n",
       "    <tr>\n",
       "      <th>13445</th>\n",
       "      <td>reputation</td>\n",
       "      <td>0.576114</td>\n",
       "    </tr>\n",
       "    <tr>\n",
       "      <th>9075</th>\n",
       "      <td>lead</td>\n",
       "      <td>0.568520</td>\n",
       "    </tr>\n",
       "    <tr>\n",
       "      <th>15455</th>\n",
       "      <td>successfully</td>\n",
       "      <td>0.561347</td>\n",
       "    </tr>\n",
       "    <tr>\n",
       "      <th>7875</th>\n",
       "      <td>image</td>\n",
       "      <td>0.558177</td>\n",
       "    </tr>\n",
       "  </tbody>\n",
       "</table>\n",
       "</div>"
      ],
      "text/plain": [
       "               Word  Coefficient\n",
       "4779       director     0.988911\n",
       "14323        senior     0.955226\n",
       "9078     leadership     0.746034\n",
       "4503        dentist     0.705865\n",
       "3706       consumer     0.646954\n",
       "11991        player     0.586595\n",
       "13445    reputation     0.576114\n",
       "9075           lead     0.568520\n",
       "15455  successfully     0.561347\n",
       "7875          image     0.558177"
      ]
     },
     "execution_count": 70,
     "metadata": {},
     "output_type": "execute_result"
    }
   ],
   "source": [
    "# Printing the top 10 words that are most associated with high salary\n",
    "coefficients.sort_values(by='Coefficient', ascending=False).head(10)"
   ]
  },
  {
   "cell_type": "code",
   "execution_count": 71,
   "metadata": {},
   "outputs": [
    {
     "data": {
      "text/html": [
       "<div>\n",
       "<style scoped>\n",
       "    .dataframe tbody tr th:only-of-type {\n",
       "        vertical-align: middle;\n",
       "    }\n",
       "\n",
       "    .dataframe tbody tr th {\n",
       "        vertical-align: top;\n",
       "    }\n",
       "\n",
       "    .dataframe thead th {\n",
       "        text-align: right;\n",
       "    }\n",
       "</style>\n",
       "<table border=\"1\" class=\"dataframe\">\n",
       "  <thead>\n",
       "    <tr style=\"text-align: right;\">\n",
       "      <th></th>\n",
       "      <th>Word</th>\n",
       "      <th>Coefficient</th>\n",
       "    </tr>\n",
       "  </thead>\n",
       "  <tbody>\n",
       "    <tr>\n",
       "      <th>1129</th>\n",
       "      <td>applicants</td>\n",
       "      <td>-0.951040</td>\n",
       "    </tr>\n",
       "    <tr>\n",
       "      <th>15151</th>\n",
       "      <td>standard</td>\n",
       "      <td>-0.677674</td>\n",
       "    </tr>\n",
       "    <tr>\n",
       "      <th>1732</th>\n",
       "      <td>basic</td>\n",
       "      <td>-0.644806</td>\n",
       "    </tr>\n",
       "    <tr>\n",
       "      <th>4255</th>\n",
       "      <td>database</td>\n",
       "      <td>-0.580449</td>\n",
       "    </tr>\n",
       "    <tr>\n",
       "      <th>7656</th>\n",
       "      <td>hours</td>\n",
       "      <td>-0.573575</td>\n",
       "    </tr>\n",
       "    <tr>\n",
       "      <th>4523</th>\n",
       "      <td>depending</td>\n",
       "      <td>-0.556597</td>\n",
       "    </tr>\n",
       "    <tr>\n",
       "      <th>16114</th>\n",
       "      <td>timely</td>\n",
       "      <td>-0.553824</td>\n",
       "    </tr>\n",
       "    <tr>\n",
       "      <th>14301</th>\n",
       "      <td>selling</td>\n",
       "      <td>-0.541564</td>\n",
       "    </tr>\n",
       "    <tr>\n",
       "      <th>2363</th>\n",
       "      <td>building</td>\n",
       "      <td>-0.532247</td>\n",
       "    </tr>\n",
       "    <tr>\n",
       "      <th>15253</th>\n",
       "      <td>stock</td>\n",
       "      <td>-0.531779</td>\n",
       "    </tr>\n",
       "  </tbody>\n",
       "</table>\n",
       "</div>"
      ],
      "text/plain": [
       "             Word  Coefficient\n",
       "1129   applicants    -0.951040\n",
       "15151    standard    -0.677674\n",
       "1732        basic    -0.644806\n",
       "4255     database    -0.580449\n",
       "7656        hours    -0.573575\n",
       "4523    depending    -0.556597\n",
       "16114      timely    -0.553824\n",
       "14301     selling    -0.541564\n",
       "2363     building    -0.532247\n",
       "15253       stock    -0.531779"
      ]
     },
     "execution_count": 71,
     "metadata": {},
     "output_type": "execute_result"
    }
   ],
   "source": [
    "# printing the top 10 words that are most associated with low salary\n",
    "coefficients.sort_values(by='Coefficient', ascending=True).head(10)"
   ]
  }
 ],
 "metadata": {
  "kernelspec": {
   "display_name": "base",
   "language": "python",
   "name": "python3"
  },
  "language_info": {
   "codemirror_mode": {
    "name": "ipython",
    "version": 3
   },
   "file_extension": ".py",
   "mimetype": "text/x-python",
   "name": "python",
   "nbconvert_exporter": "python",
   "pygments_lexer": "ipython3",
   "version": "3.9.18"
  }
 },
 "nbformat": 4,
 "nbformat_minor": 2
}
